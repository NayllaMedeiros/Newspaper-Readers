{
 "cells": [
  {
   "cell_type": "markdown",
   "metadata": {
    "id": "AC4EjjH3W2lC"
   },
   "source": [
    "![Capture d’écran 2024-04-26 à 20.59.52.png](data:image/png;base64,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)"
   ]
  },
  {
   "cell_type": "markdown",
   "metadata": {
    "id": "IJvlA1KDXCwM"
   },
   "source": [
    "# Inside Airbnb\n",
    "\n",
    "## Walking through the data with Python\n"
   ]
  },
  {
   "cell_type": "markdown",
   "metadata": {
    "id": "6fVA2uWyXFa_"
   },
   "source": [
    "## Import libraries"
   ]
  },
  {
   "cell_type": "code",
   "execution_count": 1,
   "metadata": {
    "id": "MyoCgi00W97m"
   },
   "outputs": [
    {
     "name": "stderr",
     "output_type": "stream",
     "text": [
      "/Users/naylla/opt/anaconda3/lib/python3.9/site-packages/scipy/__init__.py:155: UserWarning: A NumPy version >=1.18.5 and <1.25.0 is required for this version of SciPy (detected version 1.26.4\n",
      "  warnings.warn(f\"A NumPy version >={np_minversion} and <{np_maxversion}\"\n"
     ]
    }
   ],
   "source": [
    "# Import the libraries we are going to use\n",
    "\n",
    "import pandas as pd\n",
    "import matplotlib.pyplot as plt\n",
    "import seaborn as sns\n",
    "import plotly.express as px"
   ]
  },
  {
   "cell_type": "markdown",
   "metadata": {
    "id": "xpr8_22JXQBm"
   },
   "source": [
    "## Data Import"
   ]
  },
  {
   "cell_type": "markdown",
   "metadata": {
    "id": "WYSzFcmg9rUa"
   },
   "source": [
    "**IMPORTANT!**\n",
    "Before starting download the [csv](https://drive.google.com/file/d/14USM7iXqZhMekUpGQkuTphqXQkLs7dC3/view) that we are going to use during the workshop, you must save it in a folder on your Google Drive where your notebook will also be located"
   ]
  },
  {
   "cell_type": "code",
   "execution_count": 3,
   "metadata": {
    "id": "4f160ddeXJbb"
   },
   "outputs": [],
   "source": [
    "# Load the dataset\n",
    "\n",
    "data_raw = pd.read_csv(\"data_cleaned.csv\")"
   ]
  },
  {
   "cell_type": "markdown",
   "metadata": {
    "id": "rl1q78kD3CVC"
   },
   "source": [
    "Let's check the data"
   ]
  },
  {
   "cell_type": "code",
   "execution_count": 5,
   "metadata": {
    "id": "mFDB1RE5XOUn"
   },
   "outputs": [
    {
     "data": {
      "text/html": [
       "<div>\n",
       "<style scoped>\n",
       "    .dataframe tbody tr th:only-of-type {\n",
       "        vertical-align: middle;\n",
       "    }\n",
       "\n",
       "    .dataframe tbody tr th {\n",
       "        vertical-align: top;\n",
       "    }\n",
       "\n",
       "    .dataframe thead th {\n",
       "        text-align: right;\n",
       "    }\n",
       "</style>\n",
       "<table border=\"1\" class=\"dataframe\">\n",
       "  <thead>\n",
       "    <tr style=\"text-align: right;\">\n",
       "      <th></th>\n",
       "      <th>id</th>\n",
       "      <th>neighbourhood</th>\n",
       "      <th>latitude</th>\n",
       "      <th>longitude</th>\n",
       "      <th>room_type</th>\n",
       "      <th>price</th>\n",
       "      <th>number_of_reviews</th>\n",
       "      <th>last_review</th>\n",
       "      <th>reviews_per_month</th>\n",
       "      <th>calculated_host_listings_count</th>\n",
       "      <th>availability_365</th>\n",
       "      <th>host_id</th>\n",
       "      <th>host_response_time</th>\n",
       "      <th>review_scores_rating</th>\n",
       "    </tr>\n",
       "  </thead>\n",
       "  <tbody>\n",
       "    <tr>\n",
       "      <th>0</th>\n",
       "      <td>3109</td>\n",
       "      <td>Observatoire</td>\n",
       "      <td>48.83191</td>\n",
       "      <td>2.31870</td>\n",
       "      <td>Entire home/apt</td>\n",
       "      <td>150.0</td>\n",
       "      <td>4</td>\n",
       "      <td>2019-10-24</td>\n",
       "      <td>0.05</td>\n",
       "      <td>1</td>\n",
       "      <td>327</td>\n",
       "      <td>3631</td>\n",
       "      <td>within a few hours</td>\n",
       "      <td>5.00</td>\n",
       "    </tr>\n",
       "    <tr>\n",
       "      <th>1</th>\n",
       "      <td>5396</td>\n",
       "      <td>Hôtel-de-Ville</td>\n",
       "      <td>48.85247</td>\n",
       "      <td>2.35835</td>\n",
       "      <td>Entire home/apt</td>\n",
       "      <td>146.0</td>\n",
       "      <td>374</td>\n",
       "      <td>2023-12-11</td>\n",
       "      <td>2.12</td>\n",
       "      <td>2</td>\n",
       "      <td>0</td>\n",
       "      <td>7903</td>\n",
       "      <td>within an hour</td>\n",
       "      <td>4.59</td>\n",
       "    </tr>\n",
       "    <tr>\n",
       "      <th>2</th>\n",
       "      <td>7397</td>\n",
       "      <td>Hôtel-de-Ville</td>\n",
       "      <td>48.85909</td>\n",
       "      <td>2.35315</td>\n",
       "      <td>Entire home/apt</td>\n",
       "      <td>140.0</td>\n",
       "      <td>343</td>\n",
       "      <td>2023-11-16</td>\n",
       "      <td>2.22</td>\n",
       "      <td>7</td>\n",
       "      <td>198</td>\n",
       "      <td>2626</td>\n",
       "      <td>within an hour</td>\n",
       "      <td>4.73</td>\n",
       "    </tr>\n",
       "    <tr>\n",
       "      <th>3</th>\n",
       "      <td>7964</td>\n",
       "      <td>Opéra</td>\n",
       "      <td>48.87417</td>\n",
       "      <td>2.34245</td>\n",
       "      <td>Entire home/apt</td>\n",
       "      <td>180.0</td>\n",
       "      <td>5</td>\n",
       "      <td>2015-09-14</td>\n",
       "      <td>0.03</td>\n",
       "      <td>1</td>\n",
       "      <td>25</td>\n",
       "      <td>22155</td>\n",
       "      <td>NaN</td>\n",
       "      <td>4.80</td>\n",
       "    </tr>\n",
       "    <tr>\n",
       "      <th>4</th>\n",
       "      <td>9359</td>\n",
       "      <td>Louvre</td>\n",
       "      <td>48.86006</td>\n",
       "      <td>2.34863</td>\n",
       "      <td>Entire home/apt</td>\n",
       "      <td>75.0</td>\n",
       "      <td>0</td>\n",
       "      <td>NaN</td>\n",
       "      <td>NaN</td>\n",
       "      <td>1</td>\n",
       "      <td>185</td>\n",
       "      <td>28422</td>\n",
       "      <td>NaN</td>\n",
       "      <td>NaN</td>\n",
       "    </tr>\n",
       "    <tr>\n",
       "      <th>5</th>\n",
       "      <td>9952</td>\n",
       "      <td>Popincourt</td>\n",
       "      <td>48.86373</td>\n",
       "      <td>2.37093</td>\n",
       "      <td>Entire home/apt</td>\n",
       "      <td>130.0</td>\n",
       "      <td>49</td>\n",
       "      <td>2023-09-24</td>\n",
       "      <td>0.37</td>\n",
       "      <td>1</td>\n",
       "      <td>169</td>\n",
       "      <td>33534</td>\n",
       "      <td>within a few hours</td>\n",
       "      <td>4.92</td>\n",
       "    </tr>\n",
       "    <tr>\n",
       "      <th>6</th>\n",
       "      <td>10586</td>\n",
       "      <td>Buttes-Montmartre</td>\n",
       "      <td>48.88700</td>\n",
       "      <td>2.34531</td>\n",
       "      <td>Entire home/apt</td>\n",
       "      <td>80.0</td>\n",
       "      <td>51</td>\n",
       "      <td>2023-07-05</td>\n",
       "      <td>0.30</td>\n",
       "      <td>3</td>\n",
       "      <td>102</td>\n",
       "      <td>37107</td>\n",
       "      <td>within a day</td>\n",
       "      <td>4.85</td>\n",
       "    </tr>\n",
       "    <tr>\n",
       "      <th>7</th>\n",
       "      <td>81106</td>\n",
       "      <td>Entrepôt</td>\n",
       "      <td>48.88440</td>\n",
       "      <td>2.36091</td>\n",
       "      <td>Entire home/apt</td>\n",
       "      <td>110.0</td>\n",
       "      <td>66</td>\n",
       "      <td>2023-11-12</td>\n",
       "      <td>0.43</td>\n",
       "      <td>1</td>\n",
       "      <td>53</td>\n",
       "      <td>439130</td>\n",
       "      <td>within a few hours</td>\n",
       "      <td>4.84</td>\n",
       "    </tr>\n",
       "    <tr>\n",
       "      <th>8</th>\n",
       "      <td>10588</td>\n",
       "      <td>Buttes-Montmartre</td>\n",
       "      <td>48.88725</td>\n",
       "      <td>2.34518</td>\n",
       "      <td>Entire home/apt</td>\n",
       "      <td>75.0</td>\n",
       "      <td>22</td>\n",
       "      <td>2022-12-16</td>\n",
       "      <td>0.14</td>\n",
       "      <td>3</td>\n",
       "      <td>216</td>\n",
       "      <td>37107</td>\n",
       "      <td>within a day</td>\n",
       "      <td>4.90</td>\n",
       "    </tr>\n",
       "    <tr>\n",
       "      <th>9</th>\n",
       "      <td>11265</td>\n",
       "      <td>Buttes-Montmartre</td>\n",
       "      <td>48.88494</td>\n",
       "      <td>2.33997</td>\n",
       "      <td>Entire home/apt</td>\n",
       "      <td>145.0</td>\n",
       "      <td>30</td>\n",
       "      <td>2023-10-02</td>\n",
       "      <td>0.33</td>\n",
       "      <td>1</td>\n",
       "      <td>18</td>\n",
       "      <td>41718</td>\n",
       "      <td>NaN</td>\n",
       "      <td>4.90</td>\n",
       "    </tr>\n",
       "  </tbody>\n",
       "</table>\n",
       "</div>"
      ],
      "text/plain": [
       "      id      neighbourhood  latitude  longitude        room_type  price  \\\n",
       "0   3109       Observatoire  48.83191    2.31870  Entire home/apt  150.0   \n",
       "1   5396     Hôtel-de-Ville  48.85247    2.35835  Entire home/apt  146.0   \n",
       "2   7397     Hôtel-de-Ville  48.85909    2.35315  Entire home/apt  140.0   \n",
       "3   7964              Opéra  48.87417    2.34245  Entire home/apt  180.0   \n",
       "4   9359             Louvre  48.86006    2.34863  Entire home/apt   75.0   \n",
       "5   9952         Popincourt  48.86373    2.37093  Entire home/apt  130.0   \n",
       "6  10586  Buttes-Montmartre  48.88700    2.34531  Entire home/apt   80.0   \n",
       "7  81106           Entrepôt  48.88440    2.36091  Entire home/apt  110.0   \n",
       "8  10588  Buttes-Montmartre  48.88725    2.34518  Entire home/apt   75.0   \n",
       "9  11265  Buttes-Montmartre  48.88494    2.33997  Entire home/apt  145.0   \n",
       "\n",
       "   number_of_reviews last_review  reviews_per_month  \\\n",
       "0                  4  2019-10-24               0.05   \n",
       "1                374  2023-12-11               2.12   \n",
       "2                343  2023-11-16               2.22   \n",
       "3                  5  2015-09-14               0.03   \n",
       "4                  0         NaN                NaN   \n",
       "5                 49  2023-09-24               0.37   \n",
       "6                 51  2023-07-05               0.30   \n",
       "7                 66  2023-11-12               0.43   \n",
       "8                 22  2022-12-16               0.14   \n",
       "9                 30  2023-10-02               0.33   \n",
       "\n",
       "   calculated_host_listings_count  availability_365  host_id  \\\n",
       "0                               1               327     3631   \n",
       "1                               2                 0     7903   \n",
       "2                               7               198     2626   \n",
       "3                               1                25    22155   \n",
       "4                               1               185    28422   \n",
       "5                               1               169    33534   \n",
       "6                               3               102    37107   \n",
       "7                               1                53   439130   \n",
       "8                               3               216    37107   \n",
       "9                               1                18    41718   \n",
       "\n",
       "   host_response_time  review_scores_rating  \n",
       "0  within a few hours                  5.00  \n",
       "1      within an hour                  4.59  \n",
       "2      within an hour                  4.73  \n",
       "3                 NaN                  4.80  \n",
       "4                 NaN                   NaN  \n",
       "5  within a few hours                  4.92  \n",
       "6        within a day                  4.85  \n",
       "7  within a few hours                  4.84  \n",
       "8        within a day                  4.90  \n",
       "9                 NaN                  4.90  "
      ]
     },
     "execution_count": 5,
     "metadata": {},
     "output_type": "execute_result"
    }
   ],
   "source": [
    "# Display the first few rows of the dataframe to understand its structure\n",
    "\n",
    "data_raw.head(10)"
   ]
  },
  {
   "cell_type": "code",
   "execution_count": 6,
   "metadata": {
    "id": "8y9yHLS4XinE"
   },
   "outputs": [
    {
     "data": {
      "text/plain": [
       "(74329, 14)"
      ]
     },
     "execution_count": 6,
     "metadata": {},
     "output_type": "execute_result"
    }
   ],
   "source": [
    "#Check the number of rows and columns. Use .shape\n",
    "\n",
    "data_raw.shape"
   ]
  },
  {
   "cell_type": "code",
   "execution_count": 7,
   "metadata": {
    "id": "tdYSZT86XoqT"
   },
   "outputs": [
    {
     "data": {
      "text/plain": [
       "id                                  int64\n",
       "neighbourhood                      object\n",
       "latitude                          float64\n",
       "longitude                         float64\n",
       "room_type                          object\n",
       "price                             float64\n",
       "number_of_reviews                   int64\n",
       "last_review                        object\n",
       "reviews_per_month                 float64\n",
       "calculated_host_listings_count      int64\n",
       "availability_365                    int64\n",
       "host_id                             int64\n",
       "host_response_time                 object\n",
       "review_scores_rating              float64\n",
       "dtype: object"
      ]
     },
     "execution_count": 7,
     "metadata": {},
     "output_type": "execute_result"
    }
   ],
   "source": [
    "#What type of data do we get while using .shape? use .type()\n",
    "\n",
    "data_raw.dtypes"
   ]
  },
  {
   "cell_type": "code",
   "execution_count": 11,
   "metadata": {
    "id": "9UOK3lkPXrGG"
   },
   "outputs": [
    {
     "data": {
      "text/plain": [
       "(74329, 14)"
      ]
     },
     "execution_count": 11,
     "metadata": {},
     "output_type": "execute_result"
    }
   ],
   "source": [
    "#If we wanted to only show the number of rows, how could I do it? use .shape\n",
    "\n",
    "data_raw.shape"
   ]
  },
  {
   "cell_type": "code",
   "execution_count": 9,
   "metadata": {
    "id": "QgoXl13wXt-7"
   },
   "outputs": [
    {
     "name": "stdout",
     "output_type": "stream",
     "text": [
      "<class 'pandas.core.frame.DataFrame'>\n",
      "RangeIndex: 74329 entries, 0 to 74328\n",
      "Data columns (total 14 columns):\n",
      " #   Column                          Non-Null Count  Dtype  \n",
      "---  ------                          --------------  -----  \n",
      " 0   id                              74329 non-null  int64  \n",
      " 1   neighbourhood                   74329 non-null  object \n",
      " 2   latitude                        74329 non-null  float64\n",
      " 3   longitude                       74329 non-null  float64\n",
      " 4   room_type                       74329 non-null  object \n",
      " 5   price                           67108 non-null  float64\n",
      " 6   number_of_reviews               74329 non-null  int64  \n",
      " 7   last_review                     56438 non-null  object \n",
      " 8   reviews_per_month               56438 non-null  float64\n",
      " 9   calculated_host_listings_count  74329 non-null  int64  \n",
      " 10  availability_365                74329 non-null  int64  \n",
      " 11  host_id                         74329 non-null  int64  \n",
      " 12  host_response_time              44223 non-null  object \n",
      " 13  review_scores_rating            56527 non-null  float64\n",
      "dtypes: float64(5), int64(5), object(4)\n",
      "memory usage: 7.9+ MB\n"
     ]
    }
   ],
   "source": [
    "# To have more information about each column we can use .info()\n",
    "\n",
    "data_raw.info()"
   ]
  },
  {
   "cell_type": "code",
   "execution_count": 10,
   "metadata": {
    "id": "u6IICM2qXxnH"
   },
   "outputs": [
    {
     "data": {
      "text/html": [
       "<div>\n",
       "<style scoped>\n",
       "    .dataframe tbody tr th:only-of-type {\n",
       "        vertical-align: middle;\n",
       "    }\n",
       "\n",
       "    .dataframe tbody tr th {\n",
       "        vertical-align: top;\n",
       "    }\n",
       "\n",
       "    .dataframe thead th {\n",
       "        text-align: right;\n",
       "    }\n",
       "</style>\n",
       "<table border=\"1\" class=\"dataframe\">\n",
       "  <thead>\n",
       "    <tr style=\"text-align: right;\">\n",
       "      <th></th>\n",
       "      <th>id</th>\n",
       "      <th>latitude</th>\n",
       "      <th>longitude</th>\n",
       "      <th>price</th>\n",
       "      <th>number_of_reviews</th>\n",
       "      <th>reviews_per_month</th>\n",
       "      <th>calculated_host_listings_count</th>\n",
       "      <th>availability_365</th>\n",
       "      <th>host_id</th>\n",
       "      <th>review_scores_rating</th>\n",
       "    </tr>\n",
       "  </thead>\n",
       "  <tbody>\n",
       "    <tr>\n",
       "      <th>count</th>\n",
       "      <td>7.432900e+04</td>\n",
       "      <td>74329.000000</td>\n",
       "      <td>74329.000000</td>\n",
       "      <td>67108.000000</td>\n",
       "      <td>74329.000000</td>\n",
       "      <td>56438.000000</td>\n",
       "      <td>74329.000000</td>\n",
       "      <td>74329.000000</td>\n",
       "      <td>7.432900e+04</td>\n",
       "      <td>56527.000000</td>\n",
       "    </tr>\n",
       "    <tr>\n",
       "      <th>mean</th>\n",
       "      <td>4.016310e+17</td>\n",
       "      <td>48.864441</td>\n",
       "      <td>2.343779</td>\n",
       "      <td>221.161739</td>\n",
       "      <td>23.159897</td>\n",
       "      <td>1.126965</td>\n",
       "      <td>20.321342</td>\n",
       "      <td>105.546032</td>\n",
       "      <td>1.527328e+08</td>\n",
       "      <td>4.689374</td>\n",
       "    </tr>\n",
       "    <tr>\n",
       "      <th>std</th>\n",
       "      <td>4.385730e+17</td>\n",
       "      <td>0.018193</td>\n",
       "      <td>0.034027</td>\n",
       "      <td>662.165493</td>\n",
       "      <td>54.741564</td>\n",
       "      <td>1.437668</td>\n",
       "      <td>75.370713</td>\n",
       "      <td>125.189183</td>\n",
       "      <td>1.767908e+08</td>\n",
       "      <td>0.433012</td>\n",
       "    </tr>\n",
       "    <tr>\n",
       "      <th>min</th>\n",
       "      <td>3.109000e+03</td>\n",
       "      <td>48.816080</td>\n",
       "      <td>2.224640</td>\n",
       "      <td>8.000000</td>\n",
       "      <td>0.000000</td>\n",
       "      <td>0.010000</td>\n",
       "      <td>1.000000</td>\n",
       "      <td>0.000000</td>\n",
       "      <td>2.750000e+02</td>\n",
       "      <td>0.000000</td>\n",
       "    </tr>\n",
       "    <tr>\n",
       "      <th>25%</th>\n",
       "      <td>2.238236e+07</td>\n",
       "      <td>48.851220</td>\n",
       "      <td>2.322240</td>\n",
       "      <td>86.000000</td>\n",
       "      <td>1.000000</td>\n",
       "      <td>0.200000</td>\n",
       "      <td>1.000000</td>\n",
       "      <td>0.000000</td>\n",
       "      <td>1.690631e+07</td>\n",
       "      <td>4.570000</td>\n",
       "    </tr>\n",
       "    <tr>\n",
       "      <th>50%</th>\n",
       "      <td>5.139808e+07</td>\n",
       "      <td>48.865740</td>\n",
       "      <td>2.347263</td>\n",
       "      <td>129.000000</td>\n",
       "      <td>6.000000</td>\n",
       "      <td>0.640000</td>\n",
       "      <td>1.000000</td>\n",
       "      <td>45.000000</td>\n",
       "      <td>5.724306e+07</td>\n",
       "      <td>4.810000</td>\n",
       "    </tr>\n",
       "    <tr>\n",
       "      <th>75%</th>\n",
       "      <td>8.839130e+17</td>\n",
       "      <td>48.879210</td>\n",
       "      <td>2.369000</td>\n",
       "      <td>205.000000</td>\n",
       "      <td>22.000000</td>\n",
       "      <td>1.540000</td>\n",
       "      <td>2.000000</td>\n",
       "      <td>192.000000</td>\n",
       "      <td>2.681704e+08</td>\n",
       "      <td>5.000000</td>\n",
       "    </tr>\n",
       "    <tr>\n",
       "      <th>max</th>\n",
       "      <td>1.044192e+18</td>\n",
       "      <td>48.901670</td>\n",
       "      <td>2.467120</td>\n",
       "      <td>84420.000000</td>\n",
       "      <td>2636.000000</td>\n",
       "      <td>45.850000</td>\n",
       "      <td>628.000000</td>\n",
       "      <td>365.000000</td>\n",
       "      <td>5.503984e+08</td>\n",
       "      <td>5.000000</td>\n",
       "    </tr>\n",
       "  </tbody>\n",
       "</table>\n",
       "</div>"
      ],
      "text/plain": [
       "                 id      latitude     longitude         price  \\\n",
       "count  7.432900e+04  74329.000000  74329.000000  67108.000000   \n",
       "mean   4.016310e+17     48.864441      2.343779    221.161739   \n",
       "std    4.385730e+17      0.018193      0.034027    662.165493   \n",
       "min    3.109000e+03     48.816080      2.224640      8.000000   \n",
       "25%    2.238236e+07     48.851220      2.322240     86.000000   \n",
       "50%    5.139808e+07     48.865740      2.347263    129.000000   \n",
       "75%    8.839130e+17     48.879210      2.369000    205.000000   \n",
       "max    1.044192e+18     48.901670      2.467120  84420.000000   \n",
       "\n",
       "       number_of_reviews  reviews_per_month  calculated_host_listings_count  \\\n",
       "count       74329.000000       56438.000000                    74329.000000   \n",
       "mean           23.159897           1.126965                       20.321342   \n",
       "std            54.741564           1.437668                       75.370713   \n",
       "min             0.000000           0.010000                        1.000000   \n",
       "25%             1.000000           0.200000                        1.000000   \n",
       "50%             6.000000           0.640000                        1.000000   \n",
       "75%            22.000000           1.540000                        2.000000   \n",
       "max          2636.000000          45.850000                      628.000000   \n",
       "\n",
       "       availability_365       host_id  review_scores_rating  \n",
       "count      74329.000000  7.432900e+04          56527.000000  \n",
       "mean         105.546032  1.527328e+08              4.689374  \n",
       "std          125.189183  1.767908e+08              0.433012  \n",
       "min            0.000000  2.750000e+02              0.000000  \n",
       "25%            0.000000  1.690631e+07              4.570000  \n",
       "50%           45.000000  5.724306e+07              4.810000  \n",
       "75%          192.000000  2.681704e+08              5.000000  \n",
       "max          365.000000  5.503984e+08              5.000000  "
      ]
     },
     "execution_count": 10,
     "metadata": {},
     "output_type": "execute_result"
    }
   ],
   "source": [
    "# or even .describe()\n",
    "\n",
    "data_raw.describe()"
   ]
  },
  {
   "cell_type": "markdown",
   "metadata": {
    "id": "AiI1dLdPZrcX"
   },
   "source": [
    "## Data Cleaning"
   ]
  },
  {
   "cell_type": "markdown",
   "metadata": {
    "id": "448nWnHs_BJr"
   },
   "source": [
    "First let's check the temporality of the data we work on"
   ]
  },
  {
   "cell_type": "code",
   "execution_count": 14,
   "metadata": {
    "id": "Lvs5wrxGYIdL"
   },
   "outputs": [
    {
     "name": "stdout",
     "output_type": "stream",
     "text": [
      "2010-05-28 00:00:00 2023-12-13 00:00:00\n"
     ]
    }
   ],
   "source": [
    "# Convert 'last_review' to datetime format and find the oldest and most recent dates\n",
    "\n",
    "data_cleaned = data_raw.copy()\n",
    "\n",
    "data_cleaned['last_review'] = pd.to_datetime(data_cleaned['last_review'])\n",
    "\n",
    "min_date = data_cleaned['last_review'].min()\n",
    "max_date = data_cleaned['last_review'].max()\n",
    "\n",
    "# Look for the first and last date recorded in the dataframe using .max() .min()\n",
    "\n",
    "#YOUR CODE\n",
    "print(min_date, max_date)"
   ]
  },
  {
   "cell_type": "markdown",
   "metadata": {
    "id": "A4TXZ0bq_WDg"
   },
   "source": [
    "Check for missing values in key columns"
   ]
  },
  {
   "cell_type": "code",
   "execution_count": 15,
   "metadata": {
    "id": "nP3OfE8nZsxp"
   },
   "outputs": [
    {
     "data": {
      "text/plain": [
       "id                                    0\n",
       "neighbourhood                         0\n",
       "latitude                              0\n",
       "longitude                             0\n",
       "room_type                             0\n",
       "price                              7221\n",
       "number_of_reviews                     0\n",
       "last_review                       17891\n",
       "reviews_per_month                 17891\n",
       "calculated_host_listings_count        0\n",
       "availability_365                      0\n",
       "host_id                               0\n",
       "host_response_time                30106\n",
       "review_scores_rating              17802\n",
       "dtype: int64"
      ]
     },
     "execution_count": 15,
     "metadata": {},
     "output_type": "execute_result"
    }
   ],
   "source": [
    "# Check for missing values in key columns\n",
    "\n",
    "data_cleaned.isnull().sum()"
   ]
  },
  {
   "cell_type": "markdown",
   "metadata": {
    "id": "V8GDueZ3Z4eJ"
   },
   "source": [
    "List all column names to ensure accurate references in analysis scripts"
   ]
  },
  {
   "cell_type": "code",
   "execution_count": 16,
   "metadata": {
    "id": "dRlbi8o9Z20A"
   },
   "outputs": [
    {
     "data": {
      "text/plain": [
       "Index(['id', 'neighbourhood', 'latitude', 'longitude', 'room_type', 'price',\n",
       "       'number_of_reviews', 'last_review', 'reviews_per_month',\n",
       "       'calculated_host_listings_count', 'availability_365', 'host_id',\n",
       "       'host_response_time', 'review_scores_rating'],\n",
       "      dtype='object')"
      ]
     },
     "execution_count": 16,
     "metadata": {},
     "output_type": "execute_result"
    }
   ],
   "source": [
    "# List all column names to ensure accurate references in analysis scripts\n",
    "\n",
    "data_raw.columns"
   ]
  },
  {
   "cell_type": "markdown",
   "metadata": {
    "id": "BMq4-76DurQ8"
   },
   "source": [
    "Do you want to keep all columns?"
   ]
  },
  {
   "cell_type": "code",
   "execution_count": 18,
   "metadata": {
    "id": "UKfQ3FP9aDDu"
   },
   "outputs": [],
   "source": [
    "# Delete the columns that we do not want to keep\n",
    "\n",
    "data_cleaned.dropna(subset=['price','last_review', 'reviews_per_month','review_scores_rating'], inplace = True)"
   ]
  },
  {
   "cell_type": "markdown",
   "metadata": {
    "id": "61ppO8rEaIaM"
   },
   "source": [
    "## Exploratory Data Analysis (EDA)"
   ]
  },
  {
   "cell_type": "markdown",
   "metadata": {
    "id": "cOs_STc0dHe5"
   },
   "source": [
    "#### **Room Type Distribution**\n",
    "\n",
    "Airbnb hosts can list entire homes/apartments, private, shared rooms, and more recently hotel rooms.\n",
    "\n",
    " How many types of accomodation do we have in the dataset?"
   ]
  },
  {
   "cell_type": "code",
   "execution_count": 19,
   "metadata": {
    "id": "EyXwHaYDdJP2"
   },
   "outputs": [
    {
     "data": {
      "text/plain": [
       "Entire home/apt    46194\n",
       "Private room        5452\n",
       "Hotel room           578\n",
       "Shared room          266\n",
       "Name: room_type, dtype: int64"
      ]
     },
     "execution_count": 19,
     "metadata": {},
     "output_type": "execute_result"
    }
   ],
   "source": [
    "# Calculate the number of listings per room type\n",
    "\n",
    "number_of_listings = data_cleaned['room_type'].value_counts()\n",
    "number_of_listings"
   ]
  },
  {
   "cell_type": "code",
   "execution_count": 29,
   "metadata": {
    "id": "hDZgk65OdQNC"
   },
   "outputs": [
    {
     "data": {
      "text/plain": [
       "Entire home/apt    88.005334\n",
       "Private room       10.386740\n",
       "Hotel room          1.101162\n",
       "Shared room         0.506763\n",
       "Name: room_type, dtype: float64"
      ]
     },
     "execution_count": 29,
     "metadata": {},
     "output_type": "execute_result"
    }
   ],
   "source": [
    "# Calculate the distribution of listings by room type\n",
    "distribution_room_type = data_cleaned['room_type'].value_counts(normalize = True)*100\n",
    "distribution_room_type"
   ]
  },
  {
   "cell_type": "code",
   "execution_count": 32,
   "metadata": {
    "id": "qZBZcod1dUTk"
   },
   "outputs": [
    {
     "data": {
      "image/png": "[encoded data removed]",
      "text/plain": [
       "<Figure size 800x600 with 1 Axes>"
      ]
     },
     "metadata": {},
     "output_type": "display_data"
    }
   ],
   "source": [
    "# Plotting the distribution of room types\n",
    "\n",
    "plt.figure(figsize=(8,6))\n",
    "colors = ['#4daf4a', '#377cb8', '#ff7f00', '#e41a1c'] \n",
    "\n",
    "#Create bar chart\n",
    "distribution_room_type.plot(kind = 'bar', color=colors, edgecolor= 'black')\n",
    "\n",
    "#Add title and labels\n",
    "plt.title('distribution room type', fontsize=16, fontweight= 'bold')\n",
    "plt.xlabel('room type', fontsize=14)\n",
    "plt.ylabel('percentage of listings', fontsize=12)\n",
    "\n",
    "#Rotate x-axis labels for better readability\n",
    "plt.xticks(rotation=45, ha='right', fontsize=12)\n",
    "\n",
    "# Show percentage values on top of each bar\n",
    "for index, value in enumerate(distribution_room_type):\n",
    "    plt.text(index, value + 1, f'{value:.1f}%', ha='center', fontsize=12)\n",
    "    \n",
    "# Add a grid for visual aid\n",
    "plt.grid(axis='y', linestyle='--', alpha=0.7)\n",
    "\n",
    "# Show the plot\n",
    "plt.tight_layout()\n",
    "plt.show()"
   ]
  },
  {
   "cell_type": "code",
   "execution_count": 34,
   "metadata": {
    "id": "MKLOJ201sg_Q"
   },
   "outputs": [
    {
     "data": {
      "text/plain": [
       "20"
      ]
     },
     "execution_count": 34,
     "metadata": {},
     "output_type": "execute_result"
    }
   ],
   "source": [
    "# Calculate the number of unique neighborhoods\n",
    "\n",
    "data_cleaned.neighbourhood.nunique()"
   ]
  },
  {
   "cell_type": "code",
   "execution_count": 36,
   "metadata": {
    "id": "GCd4kXEYqZRa"
   },
   "outputs": [
    {
     "data": {
      "text/plain": [
       "Louvre                 1280\n",
       "Palais-Bourbon         1433\n",
       "Luxembourg             1504\n",
       "Élysée                 1591\n",
       "Gobelins               1716\n",
       "Panthéon               1761\n",
       "Hôtel-de-Ville         1809\n",
       "Observatoire           1914\n",
       "Bourse                 1978\n",
       "Reuilly                2041\n",
       "Temple                 2517\n",
       "Opéra                  2578\n",
       "Passy                  2645\n",
       "Ménilmontant           2961\n",
       "Buttes-Chaumont        3038\n",
       "Batignolles-Monceau    3242\n",
       "Vaugirard              3860\n",
       "Entrepôt               3860\n",
       "Popincourt             4868\n",
       "Buttes-Montmartre      5894\n",
       "Name: neighbourhood, dtype: int64"
      ]
     },
     "execution_count": 36,
     "metadata": {},
     "output_type": "execute_result"
    }
   ],
   "source": [
    "# Calculate listings count for each neighbourhood and sort in ascending order by count\n",
    "\n",
    "listings_per_neighbourhoods = data_cleaned['neighbourhood'].value_counts(ascending=False)\n",
    "\n",
    "# Sort the counts in ascending order\n",
    "listings_per_neighbourhoods_sorted = listings_per_neighbourhoods.sort_values(ascending=True)\n",
    "listings_per_neighbourhoods_sorted"
   ]
  },
  {
   "cell_type": "markdown",
   "metadata": {
    "id": "4UOid18FaVCz"
   },
   "source": [
    "#### **Pricing**\n",
    "\n",
    "What are the revenue and occupancy rates across different scopes? Can we identify pricing trends?"
   ]
  },
  {
   "cell_type": "markdown",
   "metadata": {
    "id": "dAUzYULOdbNS"
   },
   "source": [
    "How much does the average person pay to stay in Paris?"
   ]
  },
  {
   "cell_type": "code",
   "execution_count": 23,
   "metadata": {
    "id": "me0hc7o3dZzg"
   },
   "outputs": [
    {
     "data": {
      "text/plain": [
       "182.72057534768527"
      ]
     },
     "execution_count": 23,
     "metadata": {},
     "output_type": "execute_result"
    }
   ],
   "source": [
    "#Calculating the mean rental price\n",
    "\n",
    "data_cleaned.price.mean()"
   ]
  },
  {
   "cell_type": "markdown",
   "metadata": {
    "id": "_lXU9Z0OdgFv"
   },
   "source": [
    "Do you consider it is a good way to approximate the average price? Could we do it in a better way?"
   ]
  },
  {
   "cell_type": "code",
   "execution_count": 26,
   "metadata": {
    "id": "3f5jLC1OaJwX"
   },
   "outputs": [
    {
     "data": {
      "text/plain": [
       "neighbourhood\n",
       "Batignolles-Monceau    163.629241\n",
       "Bourse                 227.313448\n",
       "Buttes-Chaumont        132.551679\n",
       "Buttes-Montmartre      137.771463\n",
       "Entrepôt               162.519171\n",
       "Gobelins               167.185315\n",
       "Hôtel-de-Ville         221.131012\n",
       "Louvre                 271.741406\n",
       "Luxembourg             258.580452\n",
       "Ménilmontant           115.588990\n",
       "Observatoire           151.520376\n",
       "Opéra                  209.331265\n",
       "Palais-Bourbon         269.819260\n",
       "Panthéon               206.512209\n",
       "Passy                  247.796975\n",
       "Popincourt             152.281635\n",
       "Reuilly                144.048506\n",
       "Temple                 224.767978\n",
       "Vaugirard              180.109845\n",
       "Élysée                 296.202388\n",
       "Name: price, dtype: float64"
      ]
     },
     "execution_count": 26,
     "metadata": {},
     "output_type": "execute_result"
    }
   ],
   "source": [
    "# Grouping the data by neighborhood and calculate the average price\n",
    "\n",
    "average_price_per_neighbourhoods = data_cleaned.groupby('neighbourhood')['price'].mean()\n",
    "average_price_per_neighbourhoods"
   ]
  },
  {
   "cell_type": "code",
   "execution_count": 39,
   "metadata": {
    "id": "HMvnxArQdoP6"
   },
   "outputs": [
    {
     "data": {
      "image/png": "[encoded data removed]",
      "text/plain": [
       "<Figure size 1000x600 with 1 Axes>"
      ]
     },
     "metadata": {},
     "output_type": "display_data"
    }
   ],
   "source": [
    "# Plotting the average price per neighborhood\n",
    "\n",
    "# Plotting the average price per neighborhood\n",
    "plt.figure(figsize=(10, 6))\n",
    "\n",
    "# Sort by price for better visualization\n",
    "average_price_per_neighborhoods_sorted = average_price_per_neighbourhoods.sort_values(ascending=False)\n",
    "\n",
    "# Create bar chart\n",
    "average_price_per_neighborhoods_sorted.plot(kind='barh', color='#1f77b4', edgecolor='black')\n",
    "\n",
    "# Add titles and labels\n",
    "plt.title('Average Rental Price per Neighborhood', fontsize=16, fontweight='bold')\n",
    "plt.xlabel('Average Price', fontsize=14)\n",
    "plt.ylabel('Neighborhood', fontsize=14)\n",
    "\n",
    "# Show the plot\n",
    "plt.tight_layout()\n",
    "plt.show()"
   ]
  },
  {
   "cell_type": "markdown",
   "metadata": {
    "id": "3QQ00dgycCtU"
   },
   "source": [
    "Let's calculate the average price by room type"
   ]
  },
  {
   "cell_type": "code",
   "execution_count": 41,
   "metadata": {
    "id": "j3iomtJJbllN"
   },
   "outputs": [
    {
     "data": {
      "text/plain": [
       "room_type\n",
       "Shared room         63.233083\n",
       "Private room       136.183419\n",
       "Entire home/apt    187.921462\n",
       "Hotel room         261.015571\n",
       "Name: price, dtype: float64"
      ]
     },
     "execution_count": 41,
     "metadata": {},
     "output_type": "execute_result"
    }
   ],
   "source": [
    "# Group by 'room_type' and calculate the average price\n",
    "\n",
    "average_price_per_room_type = data_cleaned.groupby('room_type')['price'].mean()\n",
    "\n",
    "# Rename columns for clarity\n",
    "data_cleaned = data_cleaned.rename(columns={'price': 'daily_rental_price'})\n",
    "average_price_per_room_type.sort_values()"
   ]
  },
  {
   "cell_type": "markdown",
   "metadata": {
    "id": "pBq5-CQxap1v"
   },
   "source": [
    "#### **Identifying High-Performing Listings**\n",
    "\n",
    "Which listings in Airbnb's portfolio perform the best in terms of occupancy rates, revenue generation, and guest satisfaction?"
   ]
  },
  {
   "cell_type": "markdown",
   "metadata": {
    "id": "3-Wq--APd5V2"
   },
   "source": [
    "**Host revenue generation**\n",
    "\n",
    "Some Airbnb hosts have multiple listings.\n",
    "\n",
    "A host may list separate rooms in the same apartment, or multiple apartments or homes available in their entirety.\n",
    "\n",
    "Hosts with multiple listings are more likely to be running a business, are unlikely to be living in the property.\n",
    "\n",
    "Imagine that we want to know how much the 10 hosts that earn the most per year earn."
   ]
  },
  {
   "cell_type": "code",
   "execution_count": 46,
   "metadata": {
    "id": "0AFDL9usarpM"
   },
   "outputs": [
    {
     "data": {
      "text/plain": [
       "host_id\n",
       "33889201     64218100.0\n",
       "26981054     22552985.0\n",
       "277316912    20335610.0\n",
       "77779136     19432235.0\n",
       "7642792      19047160.0\n",
       "50502817     14360560.0\n",
       "50978178     13891170.0\n",
       "335998296    13830580.0\n",
       "51567288     12001200.0\n",
       "33264663     10950000.0\n",
       "Name: potetional_revenue, dtype: float64"
      ]
     },
     "execution_count": 46,
     "metadata": {},
     "output_type": "execute_result"
    }
   ],
   "source": [
    "# Create a new column 'potential_revenue' and calculate the potential annual revenue for each listing\n",
    "\n",
    "#YOUR CODE\n",
    "data_cleaned['potetional_revenue'] = data_cleaned['daily_rental_price']*365\n",
    "\n",
    "# Now, group by 'host_id' and sum up the potential revenue\n",
    "host_revenue = data_cleaned.groupby('host_id')['potetional_revenue'].sum()\n",
    "\n",
    "# Display the results\n",
    "top_10_hosts = host_revenue.sort_values(ascending=False).head(10)\n",
    "top_10_hosts\n"
   ]
  },
  {
   "cell_type": "markdown",
   "metadata": {
    "id": "aMO7ECBcepEZ"
   },
   "source": [
    "**Distribution of Listings per Host**\n",
    "\n",
    "Apartment - how many apartments does each host own?\n",
    "\n",
    "We'll use the *host_id* and *id*  to count how many listings each host manages."
   ]
  },
  {
   "cell_type": "code",
   "execution_count": 53,
   "metadata": {
    "id": "MRB7SEeseEqC"
   },
   "outputs": [
    {
     "data": {
      "image/png": "[encoded data removed]",
      "text/plain": [
       "<Figure size 1000x600 with 1 Axes>"
      ]
     },
     "metadata": {},
     "output_type": "display_data"
    }
   ],
   "source": [
    "# Counting listings per host\n",
    "\n",
    "# Group by 'host_id' and count the number of listings\n",
    "listings_per_host = data_cleaned.groupby('host_id')['id'].count()\n",
    "\n",
    "# Rename the result to make it clear\n",
    "listings_per_host = listings_per_host.rename('listings_count')\n",
    "\n",
    "# For a more informative chart, we limit the visualization to the top 10 hosts\n",
    "# Sort by listing count in descending order and get the top 10 hosts\n",
    "top10_host_by_listings = listings_per_host.sort_values(ascending=False).head(10)\n",
    "\n",
    "# Plot the top 10 hosts by listing count\n",
    "plt.figure(figsize=(10, 6))\n",
    "top10_host_by_listings.plot(kind='bar', color='#ff7f0e', edgecolor='black')\n",
    "\n",
    "# Add titles and labels\n",
    "plt.title('Top 10 Host by Numbers of listings', fontsize=16, fontweight='bold')\n",
    "plt.xlabel('Host ID', fontsize=14)\n",
    "plt.ylabel('Number of listings', fontsize=14)\n",
    "\n",
    "#Show the plot\n",
    "plt.tight_layout()\n",
    "plt.show()"
   ]
  },
  {
   "cell_type": "markdown",
   "metadata": {
    "id": "bFN4yJBTgX4c"
   },
   "source": [
    "What if we create a combined performance metric based on review scores and number of reviews ?"
   ]
  },
  {
   "cell_type": "code",
   "execution_count": 24,
   "metadata": {
    "id": "irvOkSbsf6eO"
   },
   "outputs": [],
   "source": [
    "# Create a combined performance metric based on review scores and number of reviews\n",
    "\n",
    "#YOUR CODE\n",
    "\n",
    "# Group by host and calculate average performance\n",
    "\n",
    "#YOUR CODE\n",
    "\n",
    "# Identify top-performing hosts\n",
    "\n",
    "#YOUR CODE"
   ]
  },
  {
   "cell_type": "code",
   "execution_count": 25,
   "metadata": {
    "id": "bTK2i4_vf-HV"
   },
   "outputs": [],
   "source": [
    "# Visualizing the top host performance\n",
    "\n",
    "#YOUR CODE"
   ]
  },
  {
   "cell_type": "markdown",
   "metadata": {
    "id": "yROeBItoge9b"
   },
   "source": [
    "and if we create a new perfomance indicator assuming bookings as a measure of performance ?"
   ]
  },
  {
   "cell_type": "code",
   "execution_count": 26,
   "metadata": {
    "id": "2OuO2f-UgAtl"
   },
   "outputs": [],
   "source": [
    "# Calculate assumed bookings as a measure of performance\n",
    "\n",
    "#YOUR CODE\n",
    "\n",
    "# Evaluate host performance by revenue and reviews\n",
    "\n",
    "#YOUR CODE\n",
    "\n",
    "# Top-performing hosts\n",
    "\n",
    "#YOUR CODE"
   ]
  },
  {
   "cell_type": "code",
   "execution_count": 27,
   "metadata": {
    "id": "9oSImXn3gGpH"
   },
   "outputs": [],
   "source": [
    "# Visualization of host performance metrics\n",
    "\n",
    "#YOUR CODE"
   ]
  },
  {
   "cell_type": "markdown",
   "metadata": {
    "id": "lIOwChfbwB3i"
   },
   "source": [
    "Is there a relationship between guest satisfaction and the host reponse time?"
   ]
  },
  {
   "cell_type": "code",
   "execution_count": 28,
   "metadata": {
    "id": "4oD9dDwzv4x4"
   },
   "outputs": [],
   "source": [
    "# Rename column 'review_scores_rating' as it seems to represent the intended 'review_scores_value'\n",
    "\n",
    "#YOUR CODE\n",
    "\n",
    "# Plotting the boxplot\n",
    "\n",
    "#YOUR CODE"
   ]
  },
  {
   "cell_type": "markdown",
   "metadata": {
    "id": "nyZ0oaHbwkhh"
   },
   "source": [
    "Is there a difference between host satisfaction and the type of room?"
   ]
  },
  {
   "cell_type": "code",
   "execution_count": 29,
   "metadata": {
    "id": "vb6M4YJJxJpx"
   },
   "outputs": [],
   "source": [
    "# Analyze review scores by room type for patterns\n",
    "\n",
    "#YOUR CODE\n",
    "\n",
    "# Rename columns for clarity\n",
    "\n",
    "#YOUR CODE"
   ]
  },
  {
   "cell_type": "markdown",
   "metadata": {
    "id": "DvTMKU1va8Gp"
   },
   "source": [
    "#### **Seasonal Demand Analysis**\n",
    "How does seasonal demand impact Airbnb's rental properties?\n",
    "\n",
    "Analyze booking patterns (using number of reviews as a proxy for bookings) and availability data across different seasons to identify seasonal demand fluctuations."
   ]
  },
  {
   "cell_type": "code",
   "execution_count": 30,
   "metadata": {
    "id": "QCHD-r-Tvi-F"
   },
   "outputs": [],
   "source": [
    "# Extract the month from the 'last_review' date\n",
    "\n",
    "#YOUR CODE\n",
    "\n",
    "# Aggregate data to find average price and count of listings per month\n",
    "\n",
    "#YOUR CODE\n",
    "\n",
    "# Plotting\n",
    "\n",
    "#YOUR CODE\n"
   ]
  },
  {
   "cell_type": "code",
   "execution_count": 31,
   "metadata": {
    "id": "tzR2cMuysTW5"
   },
   "outputs": [],
   "source": [
    "# Pricing adjustments based on seasonality\n",
    "\n",
    "#YOUR CODE"
   ]
  },
  {
   "cell_type": "code",
   "execution_count": 32,
   "metadata": {
    "id": "TunSDuaJsJi6"
   },
   "outputs": [],
   "source": [
    "# Pricing adjustments based on seasonality\n",
    "\n",
    "#YOUR CODE"
   ]
  },
  {
   "cell_type": "code",
   "execution_count": 33,
   "metadata": {
    "id": "Fv1ktkn1hv5P"
   },
   "outputs": [],
   "source": [
    "# Filter data for the years 2022 only\n",
    "\n",
    "#YOUR CODE\n",
    "\n",
    "# Calculate the average daily price for this year\n",
    "\n",
    "#YOUR CODE\n",
    "\n",
    "# Attempt to plot the evolution of average daily price for 2022\n",
    "\n",
    "#YOUR CODE"
   ]
  },
  {
   "cell_type": "markdown",
   "metadata": {
    "id": "nuMt5lZaAmxg"
   },
   "source": [
    "Let's use another library to answer the same question"
   ]
  },
  {
   "cell_type": "code",
   "execution_count": 34,
   "metadata": {
    "id": "EviUZZFrs2ye"
   },
   "outputs": [],
   "source": [
    "# Filter for 2022\n",
    "\n",
    "#YOUR CODE\n",
    "\n",
    "# Group by date and calculate average price\n",
    "\n",
    "#YOUR CODE\n",
    "\n",
    "# Plot using Plotly Express\n",
    "\n",
    "#YOUR CODE\n"
   ]
  }
 ],
 "metadata": {
  "colab": {
   "provenance": [],
   "toc_visible": true
  },
  "kernelspec": {
   "display_name": "Python 3 (ipykernel)",
   "language": "python",
   "name": "python3"
  },
  "language_info": {
   "codemirror_mode": {
    "name": "ipython",
    "version": 3
   },
   "file_extension": ".py",
   "mimetype": "text/x-python",
   "name": "python",
   "nbconvert_exporter": "python",
   "pygments_lexer": "ipython3",
   "version": "3.9.13"
  }
 },
 "nbformat": 4,
 "nbformat_minor": 1
}
